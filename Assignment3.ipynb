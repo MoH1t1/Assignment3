{
  "metadata": {
    "kernelspec": {
      "name": "python",
      "display_name": "Python (Pyodide)",
      "language": "python"
    },
    "language_info": {
      "codemirror_mode": {
        "name": "python",
        "version": 3
      },
      "file_extension": ".py",
      "mimetype": "text/x-python",
      "name": "python",
      "nbconvert_exporter": "python",
      "pygments_lexer": "ipython3",
      "version": "3.8"
    }
  },
  "nbformat_minor": 5,
  "nbformat": 4,
  "cells": [
    {
      "id": "e09950c9-9cb3-47c9-86da-2c6b0af3af5f",
      "cell_type": "code",
      "source": "# Q1. Which keyword is used to create a function? Create a function to return a list of odd numbers in the range of 1 to 25.\n\n# Def keyword is used to create a function\n\ndef odd_numbers():\n    odd = []\n    for i in range(1, 26):\n        if i % 2 != 0:\n            odd.append(i)\n    return odd\n\nodd_numbers = odd_numbers()\nprint(\"Odd numbers from 1 to 25:\", odd_numbers)",
      "metadata": {
        "trusted": true
      },
      "outputs": [
        {
          "name": "stdout",
          "text": "Odd numbers from 1 to 25: [1, 3, 5, 7, 9, 11, 13, 15, 17, 19, 21, 23, 25]\n",
          "output_type": "stream"
        }
      ],
      "execution_count": 22
    },
    {
      "id": "8a06e1fe-eec5-43ab-86d7-7857cf3127bf",
      "cell_type": "code",
      "source": "# Q2. Why *args and **kwargs is used in some functions? Create a function each for *args and **kwargs to demonstrate their use.\n\n# *args: Allows a function to accept any number of positional arguments as a tuple.\ndef sum_all(*args):\n    return sum(args)\n\nresult = sum_all(1, 2, 3, 4, 5)\nprint(\"Sum of all numbers:\", result)\n\n# **kwargs: Allows a function to accept any number of keyword arguments as a dictionary.\ndef print_person_details(**kwargs):\n    for key, value in kwargs.items():\n        print(f\"{key.capitalize()}: {value}\")\n\nprint_person_details(name=\"John\", age=30, profession=\"Engineer\")\n",
      "metadata": {
        "trusted": true
      },
      "outputs": [
        {
          "name": "stdout",
          "text": "Sum of all numbers: 15\nName: John\nAge: 30\nProfession: Engineer\n",
          "output_type": "stream"
        }
      ],
      "execution_count": 23
    },
    {
      "id": "a480c7bb-288f-42a6-982c-b57a6e8963e5",
      "cell_type": "code",
      "source": "# Q3. What is an iterator in python? Name the method used to initialise the iterator object and the method\n# used for iteration. Use these methods to print the first five elements of the given list [2, 4, 6, 8, 10, 12, 14, 16, 18, 20].\n\n# Iterator is a object that allows us to traverse through all the elements of a collection (like a list or tuple) one element at a time.\n# Methods used for iteration are:\n# __iter__(): Initializes or returns the iterator object.\n# __next__(): Returns the next item in the collection. Raises StopIteration when there are no more items.\n\nlist = [2, 4, 6, 8, 10, 12, 14, 16, 18, 20]\nfor i in list:\n    print(i)",
      "metadata": {
        "trusted": true
      },
      "outputs": [
        {
          "name": "stdout",
          "text": "2\n4\n6\n8\n10\n12\n14\n16\n18\n20\n",
          "output_type": "stream"
        }
      ],
      "execution_count": 24
    },
    {
      "id": "be0409eb-52af-4aaa-bdc9-caacd1bc160e",
      "cell_type": "code",
      "source": "# Q4. What is a generator function in python? Why yield keyword is used? Give an example of a generator function.\n\n# A generator function is a special type of function that produces a sequence of values, one at a time, instead of returning them all at once. It uses the yield keyword to return a value and suspend its state, allowing it to resume execution from where it left off.\n\ndef even_numbers(limit):\n    yield from range(2, limit + 1, 2)\n    \nfor num in even_numbers(10):\n    print(num)",
      "metadata": {
        "trusted": true
      },
      "outputs": [
        {
          "name": "stdout",
          "text": "2\n4\n6\n8\n10\n",
          "output_type": "stream"
        }
      ],
      "execution_count": 25
    },
    {
      "id": "e48374d1-2a72-4c21-b6fa-dee50eaa0c7d",
      "cell_type": "code",
      "source": "# Q5. Create a generator function for prime numbers less than 1000. Use the next() method to print the first 20 prime numbers.\n\ndef prime_numbers():\n    num = 2\n    while num < 1000:\n        for i in range(2, num):\n            if num % i == 0:\n                break\n        else:\n            yield num\n        num += 1\n\nprimes = prime_numbers()\nprint(\"First 20 prime numbers:\")\nfor _ in range(20):\n    print(next(primes))",
      "metadata": {
        "trusted": true
      },
      "outputs": [
        {
          "name": "stdout",
          "text": "First 20 prime numbers:\n2\n3\n5\n7\n11\n13\n17\n19\n23\n29\n31\n37\n41\n43\n47\n53\n59\n61\n67\n71\n",
          "output_type": "stream"
        }
      ],
      "execution_count": 26
    },
    {
      "id": "e8b25e6d-d397-41e6-9bdd-f1d900675040",
      "cell_type": "code",
      "source": "# Q6. Write a python program to print the first 10 Fibonacci numbers using a while loop.\n\ndef fib(A):\n    series = []\n    a = 0\n    b = 1\n    series.append(a)\n    series.append(b)\n    i=0\n    while(i<(A-2)):\n        c = a + b\n        series.append(c)\n        a = b\n        b = c\n        i=i+1\n    return series\n\nx = 10\nif x >= 2:\n    series = fib(x)\n    print(\"Fibonacci series:\", series)\nelse:\n    print(\"Please enter a number greater than or equal to 2.\")\n",
      "metadata": {
        "trusted": true
      },
      "outputs": [
        {
          "name": "stdout",
          "text": "Fibonacci series: [0, 1, 1, 2, 3, 5, 8, 13, 21, 34]\n",
          "output_type": "stream"
        }
      ],
      "execution_count": 17
    },
    {
      "id": "fb534243-ff56-43c3-929f-584f2e5aaca1",
      "cell_type": "code",
      "source": "# Q7. Write a List Comprehension to iterate through the given string: ‘pwskills’.\n     # Expected output: ['p', 'w', 's', 'k', 'i', 'l', 'l', 's']\n\na = \"pwskills\"\nlist = []\nfor i in a:\n    list.append(i)\nprint(list)",
      "metadata": {
        "trusted": true
      },
      "outputs": [
        {
          "name": "stdout",
          "text": "['p', 'w', 's', 'k', 'i', 'l', 'l', 's']\n",
          "output_type": "stream"
        }
      ],
      "execution_count": 18
    },
    {
      "id": "12fe5f07-885a-4af6-9186-196329f7f248",
      "cell_type": "code",
      "source": "# Q8. Write a python program to check whether a given number is Palindrome or not using a while loop.\n\ndef is_palindrome(num):\n    original_num = num\n    reversed_num = 0\n\n    while num > 0:\n        digit = num % 10\n        reversed_num = reversed_num * 10 + digit\n        num = num // 10\n\n    if original_num == reversed_num:\n        return True\n    else:\n        return False\n\nnumber = 121\n\nif is_palindrome(number):\n    print(f\"{number} is a palindrome.\")\nelse:\n    print(f\"{number} is not a palindrome.\")",
      "metadata": {
        "trusted": true
      },
      "outputs": [
        {
          "name": "stdout",
          "text": "121 is a palindrome.\n",
          "output_type": "stream"
        }
      ],
      "execution_count": 28
    },
    {
      "id": "f28ac1fc-6da5-42cb-9f72-e9df62bcd303",
      "cell_type": "code",
      "source": "# Q9. Write a code to print odd numbers from 1 to 100 using list comprehension. # Note: Use a list comprehension to create a list from 1 to 100 and use another List comprehension to filter out odd numbers.\n\nodd_numbers = [num for num in range(1, 101) if num % 2 != 0]\nprint(odd_numbers)",
      "metadata": {
        "trusted": true
      },
      "outputs": [
        {
          "name": "stdout",
          "text": "[1, 3, 5, 7, 9, 11, 13, 15, 17, 19, 21, 23, 25, 27, 29, 31, 33, 35, 37, 39, 41, 43, 45, 47, 49, 51, 53, 55, 57, 59, 61, 63, 65, 67, 69, 71, 73, 75, 77, 79, 81, 83, 85, 87, 89, 91, 93, 95, 97, 99]\n",
          "output_type": "stream"
        }
      ],
      "execution_count": 29
    },
    {
      "id": "81538b92-39ad-486c-bfe4-61bd64959011",
      "cell_type": "code",
      "source": "",
      "metadata": {
        "trusted": true
      },
      "outputs": [],
      "execution_count": null
    }
  ]
}